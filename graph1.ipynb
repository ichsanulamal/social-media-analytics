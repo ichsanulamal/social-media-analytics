{
 "cells": [
  {
   "cell_type": "code",
   "execution_count": 1,
   "metadata": {},
   "outputs": [],
   "source": [
    "import numpy as np\n",
    "import networkx as nx"
   ]
  },
  {
   "cell_type": "code",
   "execution_count": 2,
   "metadata": {},
   "outputs": [],
   "source": [
    "G = nx.Graph()"
   ]
  },
  {
   "cell_type": "code",
   "execution_count": 3,
   "metadata": {},
   "outputs": [],
   "source": [
    "G.add_edges_from([\n",
    "    (\"A\", \"C\"),\n",
    "    (\"A\", \"F\"),\n",
    "    (\"B\", \"F\"),\n",
    "    (\"C\", \"A\"),\n",
    "    (\"C\", \"F\"),\n",
    "    (\"D\", \"F\"),\n",
    "    (\"D\", \"J\"),\n",
    "    (\"F\", \"A\"),\n",
    "    (\"F\", \"B\"),\n",
    "    (\"F\", \"C\"),\n",
    "    (\"F\", \"D\"),\n",
    "    (\"F\", \"H\"),\n",
    "    (\"F\", \"J\"),\n",
    "    (\"G\", \"I\"),\n",
    "    (\"G\", \"J\"),\n",
    "    (\"H\", \"F\"),\n",
    "    (\"H\", \"J\"),\n",
    "    (\"I\", \"J\"),\n",
    "    (\"I\", \"G\"),\n",
    "    (\"J\", \"F\"),\n",
    "    (\"J\", \"D\"),\n",
    "    (\"J\", \"H\"),\n",
    "    (\"J\", \"E\"),\n",
    "    (\"J\", \"I\"),\n",
    "    (\"J\", \"G\")\n",
    "    ])"
   ]
  },
  {
   "cell_type": "code",
   "execution_count": 4,
   "metadata": {},
   "outputs": [
    {
     "data": {
      "text/plain": [
       "{'A': 0.47368421052631576,\n",
       " 'C': 0.47368421052631576,\n",
       " 'F': 0.75,\n",
       " 'B': 0.45,\n",
       " 'D': 0.5625,\n",
       " 'J': 0.75,\n",
       " 'H': 0.5625,\n",
       " 'G': 0.47368421052631576,\n",
       " 'I': 0.47368421052631576,\n",
       " 'E': 0.45}"
      ]
     },
     "execution_count": 4,
     "metadata": {},
     "output_type": "execute_result"
    }
   ],
   "source": [
    "nx.closeness_centrality(G)"
   ]
  },
  {
   "cell_type": "code",
   "execution_count": 11,
   "metadata": {},
   "outputs": [
    {
     "data": {
      "text/plain": [
       "{'A': 0.0,\n",
       " 'C': 0.0,\n",
       " 'F': 0.5694444444444444,\n",
       " 'B': 0.0,\n",
       " 'D': 0.0,\n",
       " 'J': 0.5694444444444444,\n",
       " 'H': 0.0,\n",
       " 'G': 0.0,\n",
       " 'I': 0.0,\n",
       " 'E': 0.0}"
      ]
     },
     "execution_count": 11,
     "metadata": {},
     "output_type": "execute_result"
    }
   ],
   "source": [
    "\n",
    "nx.betweenness_centrality(G)"
   ]
  },
  {
   "cell_type": "code",
   "execution_count": 14,
   "metadata": {},
   "outputs": [
    {
     "data": {
      "text/plain": [
       "0.28888888888888886"
      ]
     },
     "execution_count": 14,
     "metadata": {},
     "output_type": "execute_result"
    }
   ],
   "source": [
    "nx.density(G)"
   ]
  },
  {
   "cell_type": "code",
   "execution_count": 12,
   "metadata": {},
   "outputs": [
    {
     "data": {
      "text/plain": [
       "0.64"
      ]
     },
     "execution_count": 12,
     "metadata": {},
     "output_type": "execute_result"
    }
   ],
   "source": [
    "nx.average_clustering(G)\n"
   ]
  },
  {
   "cell_type": "code",
   "execution_count": 17,
   "metadata": {},
   "outputs": [],
   "source": [
    "doc = nx.clustering(G)"
   ]
  },
  {
   "cell_type": "code",
   "execution_count": 21,
   "metadata": {},
   "outputs": [
    {
     "name": "stdout",
     "output_type": "stream",
     "text": [
      "1.0\n",
      "0\n",
      "1.0\n",
      "1.0\n",
      "0\n",
      "0.2\n",
      "1.0\n",
      "1.0\n",
      "1.0\n",
      "0.2\n",
      "0.64\n"
     ]
    }
   ],
   "source": [
    "sum = 0\n",
    "for s in \"ABCDEFGHIJ\":\n",
    "    sum += doc[s]\n",
    "    print(doc[s])\n",
    "\n",
    "print(sum/len(\"ABCDEFGHIJ\"))"
   ]
  },
  {
   "cell_type": "code",
   "execution_count": 44,
   "metadata": {},
   "outputs": [],
   "source": [
    "def findPathsNoLC(G,u,n):\n",
    "    if n==0:\n",
    "        return [[u]]\n",
    "    paths = []\n",
    "    for neighbor in G.neighbors(u):\n",
    "        for path in findPathsNoLC(G,neighbor,n-1):\n",
    "            if u not in path:\n",
    "                paths.append([u]+path)\n",
    "    \n",
    "    print(paths)\n",
    "    return paths"
   ]
  },
  {
   "cell_type": "code",
   "execution_count": 46,
   "metadata": {},
   "outputs": [],
   "source": [
    "# allpaths = []\n",
    "# for node in G:\n",
    "#     allpaths.extend(findPathsNoLC(G,node,2))"
   ]
  },
  {
   "cell_type": "code",
   "execution_count": 58,
   "metadata": {},
   "outputs": [],
   "source": [
    "sp = nx.shortest_path(G)\n",
    "\n",
    "paths = []\n",
    "for node in sp:\n",
    "    other_node = sp[node]\n",
    "    for s_node in other_node:\n",
    "        if len(other_node[s_node]) == 3:\n",
    "            paths.append(other_node[s_node])\n",
    "        "
   ]
  },
  {
   "cell_type": "code",
   "execution_count": 61,
   "metadata": {},
   "outputs": [
    {
     "name": "stdout",
     "output_type": "stream",
     "text": [
      "[['A', 'F', 'B'], ['A', 'F', 'D'], ['A', 'F', 'H'], ['A', 'F', 'J'], ['C', 'F', 'B'], ['C', 'F', 'D'], ['C', 'F', 'H'], ['C', 'F', 'J'], ['F', 'J', 'G'], ['F', 'J', 'I'], ['F', 'J', 'E'], ['B', 'F', 'A'], ['B', 'F', 'C'], ['B', 'F', 'D'], ['B', 'F', 'H'], ['B', 'F', 'J'], ['D', 'F', 'A'], ['D', 'F', 'B'], ['D', 'F', 'C'], ['D', 'F', 'H'], ['D', 'J', 'G'], ['D', 'J', 'I'], ['D', 'J', 'E'], ['J', 'F', 'A'], ['J', 'F', 'B'], ['J', 'F', 'C'], ['H', 'F', 'A'], ['H', 'F', 'B'], ['H', 'F', 'C'], ['H', 'F', 'D'], ['H', 'J', 'G'], ['H', 'J', 'I'], ['H', 'J', 'E'], ['G', 'J', 'D'], ['G', 'J', 'F'], ['G', 'J', 'H'], ['G', 'J', 'E'], ['I', 'J', 'D'], ['I', 'J', 'F'], ['I', 'J', 'H'], ['I', 'J', 'E'], ['E', 'J', 'D'], ['E', 'J', 'F'], ['E', 'J', 'G'], ['E', 'J', 'H'], ['E', 'J', 'I']]\n"
     ]
    }
   ],
   "source": [
    "print(paths)"
   ]
  },
  {
   "cell_type": "code",
   "execution_count": 60,
   "metadata": {},
   "outputs": [
    {
     "data": {
      "text/plain": [
       "46"
      ]
     },
     "execution_count": 60,
     "metadata": {},
     "output_type": "execute_result"
    }
   ],
   "source": [
    "len(paths)\n"
   ]
  },
  {
   "cell_type": "code",
   "execution_count": 69,
   "metadata": {},
   "outputs": [],
   "source": [
    "all_cliques = nx.enumerate_all_cliques(G)\n",
    "triad_cliques=[x for x in all_cliques if len(x)==3 ]\n",
    "# triad_cliques=[x for x in all_cliques]"
   ]
  },
  {
   "cell_type": "code",
   "execution_count": 70,
   "metadata": {},
   "outputs": [
    {
     "data": {
      "text/plain": [
       "[['A', 'C', 'F'], ['F', 'D', 'J'], ['F', 'J', 'H'], ['J', 'G', 'I']]"
      ]
     },
     "execution_count": 70,
     "metadata": {},
     "output_type": "execute_result"
    }
   ],
   "source": [
    "triad_cliques"
   ]
  },
  {
   "cell_type": "code",
   "execution_count": 75,
   "metadata": {},
   "outputs": [
    {
     "data": {
      "text/plain": [
       "0.3333333333333333"
      ]
     },
     "execution_count": 75,
     "metadata": {},
     "output_type": "execute_result"
    }
   ],
   "source": [
    "nx.transitivity(G)"
   ]
  },
  {
   "cell_type": "code",
   "execution_count": null,
   "metadata": {},
   "outputs": [],
   "source": []
  }
 ],
 "metadata": {
  "interpreter": {
   "hash": "ad2bdc8ecc057115af97d19610ffacc2b4e99fae6737bb82f5d7fb13d2f2c186"
  },
  "kernelspec": {
   "display_name": "Python 3.8.8 ('base')",
   "language": "python",
   "name": "python3"
  },
  "language_info": {
   "codemirror_mode": {
    "name": "ipython",
    "version": 3
   },
   "file_extension": ".py",
   "mimetype": "text/x-python",
   "name": "python",
   "nbconvert_exporter": "python",
   "pygments_lexer": "ipython3",
   "version": "3.8.8"
  },
  "orig_nbformat": 4
 },
 "nbformat": 4,
 "nbformat_minor": 2
}
