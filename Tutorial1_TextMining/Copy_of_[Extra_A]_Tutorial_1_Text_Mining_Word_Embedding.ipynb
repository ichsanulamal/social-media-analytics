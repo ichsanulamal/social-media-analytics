{
  "nbformat": 4,
  "nbformat_minor": 0,
  "metadata": {
    "colab": {
      "name": "Copy of [Extra A] Tutorial 1 - Text Mining - Word Embedding.ipynb",
      "provenance": [],
      "collapsed_sections": []
    },
    "kernelspec": {
      "name": "python3",
      "display_name": "Python 3"
    },
    "language_info": {
      "name": "python"
    }
  },
  "cells": [
    {
      "cell_type": "markdown",
      "source": [
        "# [Extra A] Tutorial 1 - Text Mining\n",
        "## Word Embedding\n",
        "\n",
        "- Nama: Muhammad Ichsanul Amal\n",
        "- NPM: 1906353454\n",
        "\n",
        "Tutorial ini merupakan tambahan untuk mereview beberapa teknik yang lebih baru untuk melakukan Text Mining. Terdapat dua pembahasan yang dicakup dalam tutorial ini, yaitu Word Embedding dan Transformer-based Language Model. Penjelasannya akan dibahas berikutnya. \n",
        "\n",
        "Transformer-based Language Model dibahas di notebook terpisah dan dapat dieksplorasi secara mandiri bagi yang tertarik pada topik tersebut. \n",
        "\n",
        "Link Notebook Transformer: https://colab.research.google.com/drive/1dZr7haRjTn86swq-L8oETB74hWqp6A9v?usp=sharing"
      ],
      "metadata": {
        "id": "Domvx1s1BAT8"
      }
    },
    {
      "cell_type": "code",
      "source": [
        "!pip install --upgrade gdown --quiet"
      ],
      "metadata": {
        "id": "h7lId7t_yAOE"
      },
      "execution_count": 5,
      "outputs": []
    },
    {
      "cell_type": "code",
      "execution_count": 6,
      "metadata": {
        "id": "C5nr-unsx3QU",
        "colab": {
          "base_uri": "https://localhost:8080/"
        },
        "outputId": "eccf81c0-202b-4645-d464-5d67b7e928d5"
      },
      "outputs": [
        {
          "output_type": "stream",
          "name": "stdout",
          "text": [
            "[nltk_data] Downloading package punkt to /root/nltk_data...\n",
            "[nltk_data]   Package punkt is already up-to-date!\n"
          ]
        },
        {
          "output_type": "execute_result",
          "data": {
            "text/plain": [
              "True"
            ]
          },
          "metadata": {},
          "execution_count": 6
        }
      ],
      "source": [
        "import numpy as np\n",
        "import pandas as pd\n",
        "import random\n",
        "import gdown\n",
        "import nltk\n",
        "\n",
        "from tqdm import tqdm\n",
        "\n",
        "# Word2Vec Gensim\n",
        "import gensim\n",
        "from gensim.models import Word2Vec\n",
        "\n",
        "from sklearn.metrics import classification_report\n",
        "from sklearn.svm import SVC\n",
        "from sklearn.model_selection import train_test_split\n",
        "\n",
        "nltk.download('punkt')"
      ]
    },
    {
      "cell_type": "markdown",
      "source": [
        "Kita akan menggunakan dataset yang sama seperti pada Tutorial sebelumnya, yaitu Deteksi Emosi pada Twitter Indonesia."
      ],
      "metadata": {
        "id": "th6arufEyqYc"
      }
    },
    {
      "cell_type": "code",
      "source": [
        "# TO DO: Upload dataset terlebih dahulu ke Colab\n",
        "# Alternatifnya, file dataset bisa diunggah ke drive terlebih dahulu lalu lakukan \n",
        "# mounting drive ke Colab\n",
        "\n",
        "df = pd.read_csv('/content/drive/MyDrive/Colab Notebooks/Twitter_Emotion_Dataset.csv')\n",
        "df.head()"
      ],
      "metadata": {
        "colab": {
          "base_uri": "https://localhost:8080/",
          "height": 206
        },
        "id": "xoALgOth3M_F",
        "outputId": "3935663b-6861-4392-baa1-77bf9b108a8f"
      },
      "execution_count": 7,
      "outputs": [
        {
          "output_type": "execute_result",
          "data": {
            "text/plain": [
              "   label                                              tweet\n",
              "0  anger  Soal jln Jatibaru,polisi tdk bs GERTAK gubernu...\n",
              "1  anger  Sesama cewe lho (kayaknya), harusnya bisa lebi...\n",
              "2  happy  Kepingin gudeg mbarek Bu hj. Amad Foto dari go...\n",
              "3  anger  Jln Jatibaru,bagian dari wilayah Tn Abang.Peng...\n",
              "4  happy  Sharing pengalaman aja, kemarin jam 18.00 bata..."
            ],
            "text/html": [
              "\n",
              "  <div id=\"df-0383bb14-a9e3-42f9-ba75-4686aa3d6485\">\n",
              "    <div class=\"colab-df-container\">\n",
              "      <div>\n",
              "<style scoped>\n",
              "    .dataframe tbody tr th:only-of-type {\n",
              "        vertical-align: middle;\n",
              "    }\n",
              "\n",
              "    .dataframe tbody tr th {\n",
              "        vertical-align: top;\n",
              "    }\n",
              "\n",
              "    .dataframe thead th {\n",
              "        text-align: right;\n",
              "    }\n",
              "</style>\n",
              "<table border=\"1\" class=\"dataframe\">\n",
              "  <thead>\n",
              "    <tr style=\"text-align: right;\">\n",
              "      <th></th>\n",
              "      <th>label</th>\n",
              "      <th>tweet</th>\n",
              "    </tr>\n",
              "  </thead>\n",
              "  <tbody>\n",
              "    <tr>\n",
              "      <th>0</th>\n",
              "      <td>anger</td>\n",
              "      <td>Soal jln Jatibaru,polisi tdk bs GERTAK gubernu...</td>\n",
              "    </tr>\n",
              "    <tr>\n",
              "      <th>1</th>\n",
              "      <td>anger</td>\n",
              "      <td>Sesama cewe lho (kayaknya), harusnya bisa lebi...</td>\n",
              "    </tr>\n",
              "    <tr>\n",
              "      <th>2</th>\n",
              "      <td>happy</td>\n",
              "      <td>Kepingin gudeg mbarek Bu hj. Amad Foto dari go...</td>\n",
              "    </tr>\n",
              "    <tr>\n",
              "      <th>3</th>\n",
              "      <td>anger</td>\n",
              "      <td>Jln Jatibaru,bagian dari wilayah Tn Abang.Peng...</td>\n",
              "    </tr>\n",
              "    <tr>\n",
              "      <th>4</th>\n",
              "      <td>happy</td>\n",
              "      <td>Sharing pengalaman aja, kemarin jam 18.00 bata...</td>\n",
              "    </tr>\n",
              "  </tbody>\n",
              "</table>\n",
              "</div>\n",
              "      <button class=\"colab-df-convert\" onclick=\"convertToInteractive('df-0383bb14-a9e3-42f9-ba75-4686aa3d6485')\"\n",
              "              title=\"Convert this dataframe to an interactive table.\"\n",
              "              style=\"display:none;\">\n",
              "        \n",
              "  <svg xmlns=\"http://www.w3.org/2000/svg\" height=\"24px\"viewBox=\"0 0 24 24\"\n",
              "       width=\"24px\">\n",
              "    <path d=\"M0 0h24v24H0V0z\" fill=\"none\"/>\n",
              "    <path d=\"M18.56 5.44l.94 2.06.94-2.06 2.06-.94-2.06-.94-.94-2.06-.94 2.06-2.06.94zm-11 1L8.5 8.5l.94-2.06 2.06-.94-2.06-.94L8.5 2.5l-.94 2.06-2.06.94zm10 10l.94 2.06.94-2.06 2.06-.94-2.06-.94-.94-2.06-.94 2.06-2.06.94z\"/><path d=\"M17.41 7.96l-1.37-1.37c-.4-.4-.92-.59-1.43-.59-.52 0-1.04.2-1.43.59L10.3 9.45l-7.72 7.72c-.78.78-.78 2.05 0 2.83L4 21.41c.39.39.9.59 1.41.59.51 0 1.02-.2 1.41-.59l7.78-7.78 2.81-2.81c.8-.78.8-2.07 0-2.86zM5.41 20L4 18.59l7.72-7.72 1.47 1.35L5.41 20z\"/>\n",
              "  </svg>\n",
              "      </button>\n",
              "      \n",
              "  <style>\n",
              "    .colab-df-container {\n",
              "      display:flex;\n",
              "      flex-wrap:wrap;\n",
              "      gap: 12px;\n",
              "    }\n",
              "\n",
              "    .colab-df-convert {\n",
              "      background-color: #E8F0FE;\n",
              "      border: none;\n",
              "      border-radius: 50%;\n",
              "      cursor: pointer;\n",
              "      display: none;\n",
              "      fill: #1967D2;\n",
              "      height: 32px;\n",
              "      padding: 0 0 0 0;\n",
              "      width: 32px;\n",
              "    }\n",
              "\n",
              "    .colab-df-convert:hover {\n",
              "      background-color: #E2EBFA;\n",
              "      box-shadow: 0px 1px 2px rgba(60, 64, 67, 0.3), 0px 1px 3px 1px rgba(60, 64, 67, 0.15);\n",
              "      fill: #174EA6;\n",
              "    }\n",
              "\n",
              "    [theme=dark] .colab-df-convert {\n",
              "      background-color: #3B4455;\n",
              "      fill: #D2E3FC;\n",
              "    }\n",
              "\n",
              "    [theme=dark] .colab-df-convert:hover {\n",
              "      background-color: #434B5C;\n",
              "      box-shadow: 0px 1px 3px 1px rgba(0, 0, 0, 0.15);\n",
              "      filter: drop-shadow(0px 1px 2px rgba(0, 0, 0, 0.3));\n",
              "      fill: #FFFFFF;\n",
              "    }\n",
              "  </style>\n",
              "\n",
              "      <script>\n",
              "        const buttonEl =\n",
              "          document.querySelector('#df-0383bb14-a9e3-42f9-ba75-4686aa3d6485 button.colab-df-convert');\n",
              "        buttonEl.style.display =\n",
              "          google.colab.kernel.accessAllowed ? 'block' : 'none';\n",
              "\n",
              "        async function convertToInteractive(key) {\n",
              "          const element = document.querySelector('#df-0383bb14-a9e3-42f9-ba75-4686aa3d6485');\n",
              "          const dataTable =\n",
              "            await google.colab.kernel.invokeFunction('convertToInteractive',\n",
              "                                                     [key], {});\n",
              "          if (!dataTable) return;\n",
              "\n",
              "          const docLinkHtml = 'Like what you see? Visit the ' +\n",
              "            '<a target=\"_blank\" href=https://colab.research.google.com/notebooks/data_table.ipynb>data table notebook</a>'\n",
              "            + ' to learn more about interactive tables.';\n",
              "          element.innerHTML = '';\n",
              "          dataTable['output_type'] = 'display_data';\n",
              "          await google.colab.output.renderOutput(dataTable, element);\n",
              "          const docLink = document.createElement('div');\n",
              "          docLink.innerHTML = docLinkHtml;\n",
              "          element.appendChild(docLink);\n",
              "        }\n",
              "      </script>\n",
              "    </div>\n",
              "  </div>\n",
              "  "
            ]
          },
          "metadata": {},
          "execution_count": 7
        }
      ]
    },
    {
      "cell_type": "code",
      "source": [
        "from google.colab import drive\n",
        "drive.mount('/content/drive')"
      ],
      "metadata": {
        "colab": {
          "base_uri": "https://localhost:8080/"
        },
        "id": "WR6S4opb-Q9K",
        "outputId": "f472c872-aed9-4506-b883-a34a15b80aea"
      },
      "execution_count": 8,
      "outputs": [
        {
          "output_type": "stream",
          "name": "stdout",
          "text": [
            "Drive already mounted at /content/drive; to attempt to forcibly remount, call drive.mount(\"/content/drive\", force_remount=True).\n"
          ]
        }
      ]
    },
    {
      "cell_type": "code",
      "source": [
        "df['label'].value_counts().plot(kind='bar')"
      ],
      "metadata": {
        "colab": {
          "base_uri": "https://localhost:8080/",
          "height": 314
        },
        "id": "3cKzePF83UIq",
        "outputId": "1a89761e-a429-4954-988d-9aae3a4bc858"
      },
      "execution_count": 9,
      "outputs": [
        {
          "output_type": "execute_result",
          "data": {
            "text/plain": [
              "<matplotlib.axes._subplots.AxesSubplot at 0x7f7e42ff4e50>"
            ]
          },
          "metadata": {},
          "execution_count": 9
        },
        {
          "output_type": "display_data",
          "data": {
            "text/plain": [
              "<Figure size 432x288 with 1 Axes>"
            ],
            "image/png": "[encoded data removed]"
          },
          "metadata": {
            "needs_background": "light"
          }
        }
      ]
    },
    {
      "cell_type": "markdown",
      "source": [
        "## 1. Word Vector/Word Embedding\n",
        "\n",
        "Word Vector merupakan konsep untuk memetakan setiap kata ke sebuah vektor berdimensi tinggi.\n",
        "\n",
        "$$f:W \\to (x_1, x_2, ...,x_m) $$\n",
        "\n",
        "Salah satu kelebihan Word Vector dibandingkan dengan representasi berbasis $n$-gram (Bag of Words dan TF-IDF) adalah kemampuan untuk memetakan kata-kata yang memiliki makna serupa (sinonim) atau berlawanan (antonim). Kemampuan itu didukung dengan ukuran *vector similarity* antara kedua kata.\n",
        "\n",
        "Contohnya yaitu seperti pada gambar di bawah ini. Kata '*beautiful*' dan '*appealing*' memiliki makna yang serupa, sementara '*dull*' memiliki makna yang cukup berlawanan.\n",
        "\n",
        "Jika tertarik untuk mempelajari lebih lanjut:\n",
        "- https://dzone.com/articles/introduction-to-word-vectors\n",
        "- Original paper: https://arxiv.org/abs/1301.3781\n",
        "\n",
        "![image.png](data:image/png;base64,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)"
      ],
      "metadata": {
        "id": "jsE84KM3W1i7"
      }
    },
    {
      "cell_type": "markdown",
      "source": [
        "Untuk kasus ini, kita akan coba menggunakan model Word2Vec (salah satu library untuk Word Vector) yang sudah dilatih (*pre-trained*). Model ini tersedia di https://github.com/deryrahman/word2vec-bahasa-indonesia\n",
        "\n",
        "Model ini dilatih pada kumpulan artikel Wikipedia Bahasa Indonesia.\n",
        "\n",
        "Terdapat 3 variasi dimensi vektor, yaitu 100, 200, dan 300. Pertama, kita akan coba menggunakan yang terkecil.\n",
        "\n",
        "Referensi artikel: https://medium.com/@diekanugraha/membuat-model-word2vec-bahasa-indonesia-dari-wikipedia-menggunakan-gensim-e5745b98714d"
      ],
      "metadata": {
        "id": "-6HtwbRSwJH1"
      }
    },
    {
      "cell_type": "code",
      "source": [
        "# word2vec length 100\n",
        "!gdown --id 1lmZuikAJ5t69lZMvx4iKfnsMDS9UI3HB\n",
        "\n",
        "# word2vec length 300\n",
        "!gdown --id 1X5ZPsaoXFxJFrcJ7pVkV9VC81lmDIzdI\n",
        "\n",
        "!unzip idwiki_word2vec_100.zip"
      ],
      "metadata": {
        "colab": {
          "base_uri": "https://localhost:8080/"
        },
        "id": "ro9A4_FzN5eG",
        "outputId": "6f1725be-cffa-46ef-e375-439df15bff77"
      },
      "execution_count": 10,
      "outputs": [
        {
          "output_type": "stream",
          "name": "stdout",
          "text": [
            "/usr/local/lib/python3.7/dist-packages/gdown/cli.py:131: FutureWarning: Option `--id` was deprecated in version 4.3.1 and will be removed in 5.0. You don't need to pass it anymore to use a file ID.\n",
            "  category=FutureWarning,\n",
            "Downloading...\n",
            "From: https://drive.google.com/uc?id=1lmZuikAJ5t69lZMvx4iKfnsMDS9UI3HB\n",
            "To: /content/idwiki_word2vec_100.zip\n",
            "100% 253M/253M [00:01<00:00, 134MB/s]\n",
            "/usr/local/lib/python3.7/dist-packages/gdown/cli.py:131: FutureWarning: Option `--id` was deprecated in version 4.3.1 and will be removed in 5.0. You don't need to pass it anymore to use a file ID.\n",
            "  category=FutureWarning,\n",
            "Downloading...\n",
            "From: https://drive.google.com/uc?id=1X5ZPsaoXFxJFrcJ7pVkV9VC81lmDIzdI\n",
            "To: /content/idwiki_word2vec_300.zip\n",
            "100% 746M/746M [00:24<00:00, 31.0MB/s]\n",
            "Archive:  idwiki_word2vec_100.zip\n",
            "  inflating: idwiki_word2vec_100.model.wv.vectors.npy  \n",
            "  inflating: idwiki_word2vec_100.model.trainables.syn1neg.npy  \n",
            "  inflating: idwiki_word2vec_100.model  \n"
          ]
        }
      ]
    },
    {
      "cell_type": "code",
      "source": [
        "!unzip idwiki_word2vec_300.zip"
      ],
      "metadata": {
        "colab": {
          "base_uri": "https://localhost:8080/"
        },
        "id": "ZO6RNR6UEVT0",
        "outputId": "2c303195-c5e6-48cb-dc60-e7ccb9299bde"
      },
      "execution_count": 22,
      "outputs": [
        {
          "output_type": "stream",
          "name": "stdout",
          "text": [
            "Archive:  idwiki_word2vec_300.zip\n",
            "  inflating: idwiki_word2vec_300.model.trainables.syn1neg.npy  \n",
            "  inflating: idwiki_word2vec_300.model.wv.vectors.npy  \n",
            "  inflating: idwiki_word2vec_300.model  \n"
          ]
        }
      ]
    },
    {
      "cell_type": "markdown",
      "source": [
        "### 1a. Menggunakan Model Word2Vec\n",
        "\n",
        "Selanjutnya, kita coba input model yang sudah didownload sebelumnya. Library yang digunakan adalah library [Gensim](https://radimrehurek.com/gensim/)."
      ],
      "metadata": {
        "id": "LLNEcGNly_7z"
      }
    },
    {
      "cell_type": "code",
      "source": [
        "w2v_model = gensim.models.Word2Vec.load(\"idwiki_word2vec_100.model\")"
      ],
      "metadata": {
        "id": "bfO00QCdCfNQ"
      },
      "execution_count": 11,
      "outputs": []
    },
    {
      "cell_type": "markdown",
      "source": [
        "Kita bisa mengambil salah satu kata (misalnya: \"pesawat\") untuk mencoba mendapatkan vektornya. Karena vektor tersebut cukup panjang, kita coba ambil 10 dimensi pertamanya saja."
      ],
      "metadata": {
        "id": "zmD68Z59zTYv"
      }
    },
    {
      "cell_type": "code",
      "source": [
        "# Contoh Word Vector\n",
        "\n",
        "print(\"Embedding kata 'pesawat'\")\n",
        "print(\"10 dim pertama:\", w2v_model.wv['pesawat'][:10])\n",
        "print(\"Jumlah dimensi:\", w2v_model.wv['pesawat'].shape)"
      ],
      "metadata": {
        "id": "AOmMS2b8CfPb",
        "colab": {
          "base_uri": "https://localhost:8080/"
        },
        "outputId": "2cc439ae-75a8-4960-aba6-e68906b30e05"
      },
      "execution_count": 12,
      "outputs": [
        {
          "output_type": "stream",
          "name": "stdout",
          "text": [
            "Embedding kata 'pesawat'\n",
            "10 dim pertama: [-0.89698255  2.2322412   2.1836152  -4.8095484   0.6571641   3.0960891\n",
            "  0.48786417 -4.6133084  -4.789883   -2.1193895 ]\n",
            "Jumlah dimensi: (100,)\n"
          ]
        }
      ]
    },
    {
      "cell_type": "markdown",
      "source": [
        "**Dense vs Sparse Vector**\n",
        "\n",
        "Jika Anda memperhatikan hasil embeddingnya, terdapat perbedaan karakteristik vektor yang dihasilkan antara vektor $n$-gram-based (Bow dan TF-IDF) dengan vektor word embedding. \n",
        "\n",
        "$n$-gram-based memiliki output vektor yang bersifat ***sparse***, di mana banyak elemen vektor yang bernilai 0. Hal ini dikarenakan satu vektor dokumen merepresentasikan kemunculan term pada dokumen tersebut.\n",
        "\n",
        "Misalkan, terdapat **2.000 tweet** dengan rata-rata kata per tweet sebanyak **20 kata**. Pada *worst case scenario*, masing-masing *tweet* tidak memiliki kata berulang dan 2.000 tweet tersebut tidak mengandung kata yang sama, maka terdapat **40.000 kata** unik dengan hanya 20 di antaranya yang tidak bernilai 0 untuk masing-masing tweet.\n",
        "\n",
        "<div align='center'>\n",
        "  <img src='https://drive.google.com/uc?id=1ioy0fR42ThwqjTJ2L6AWemibPW2yuMVz' width='500'/><br>\n",
        "  Ilustrasi $n$-gram-based vector\n",
        "</div>\n",
        "\n",
        "Di sisi lain, word embedding memiliki output vektor yang bersifat ***dense***, di mana hampir tidak ada elemen di dalam vektor yang bernilai nol. \n",
        "\n",
        "Hal ini membuat representasi word embedding mudah untuk mengukur *similarity* antar vektor, karena tidak banyak *noise* elemen 0 yang timbul sebagai akibat dari *sparse vector*."
      ],
      "metadata": {
        "id": "oaUndlrva4No"
      }
    },
    {
      "cell_type": "markdown",
      "source": [
        "Kita juga bisa memetakan seberapa mirip sebuah pasang kata. Misalnya pada contoh berikut, `pesawat-kereta` memiliki similarity yang sedang sebagai sesama kendaraan. Sementara itu, `komputer-ponsel` memiliki similarity yang cukup tinggi. Namun, pasangan kata yang berlawanan seperti `senyap-ramai` memiliki nilai similarity yang lebih rendah."
      ],
      "metadata": {
        "id": "ljAnLFf65ivU"
      }
    },
    {
      "cell_type": "code",
      "source": [
        "# Contoh similarity\n",
        "\n",
        "print(\"(pesawat, kereta) =\", w2v_model.wv.similarity('pesawat', 'kereta'))\n",
        "print(\"(komputer, ponsel) =\", w2v_model.wv.similarity('komputer', 'ponsel'))\n",
        "print(\"(senyap, ramai) =\", w2v_model.wv.similarity('senyap', 'ramai'))"
      ],
      "metadata": {
        "colab": {
          "base_uri": "https://localhost:8080/"
        },
        "id": "1tGANTYU1Ga1",
        "outputId": "af362a52-681e-4613-f90d-e1f1f3b1854f"
      },
      "execution_count": 13,
      "outputs": [
        {
          "output_type": "stream",
          "name": "stdout",
          "text": [
            "(pesawat, kereta) = 0.5023877\n",
            "(komputer, ponsel) = 0.69093394\n",
            "(senyap, ramai) = 0.24767166\n"
          ]
        }
      ]
    },
    {
      "cell_type": "markdown",
      "source": [
        "Salah satu kekurangan dari Word2Vec adalah tidak bisa memahami kata yang belum pernah dilatih. Misalnya, karena model ini dilatih sebelum pandemi COVID-19, maka model ini tidak bisa memetakan kata `covid` ke dalam vektor."
      ],
      "metadata": {
        "id": "OdeHVtjq6D0P"
      }
    },
    {
      "cell_type": "code",
      "source": [
        "# Contoh missing value\n",
        "\n",
        "try:\n",
        "  print(w2v_model.wv['covid'])\n",
        "except KeyError as e:\n",
        "  print(\"Error:\", e)"
      ],
      "metadata": {
        "id": "SAaHbq60CfR1",
        "colab": {
          "base_uri": "https://localhost:8080/"
        },
        "outputId": "ea04f79d-94e8-4f74-b1bb-0084b5bd794a"
      },
      "execution_count": 14,
      "outputs": [
        {
          "output_type": "stream",
          "name": "stdout",
          "text": [
            "Error: \"word 'covid' not in vocabulary\"\n"
          ]
        }
      ]
    },
    {
      "cell_type": "markdown",
      "source": [
        "### 1b. Transformasi Teks ke Vektor\n",
        "\n",
        "Selanjutnya, kita akan mentransformasi teks tweet pada dataset menjadi representasi vektor. Tahapan pengolahannya adalah sebagai berikut:\n",
        "\n",
        "1. **Preprocessing**. Tahap ini pada dasarnya hanya melakukan *lowercasing* dan *tokenization*. Kata-kata yang terdapat dalam vocabulary model Word2Vec sebelumnya merupakan kata-kata yang telah di-*lowercasing*.\n",
        "\n",
        "2. **Transformation**. Selanjutnya, dilakukan konversi setiap kata ke vektor. Lalu setiap vektor yang ada di dalam tweet dilakukan *average pooling* untuk menyeragamkan dimensi vektor untuk masing-masing tweet."
      ],
      "metadata": {
        "id": "sEc97r2b6lVb"
      }
    },
    {
      "cell_type": "code",
      "source": [
        "tweet_tokenizer = nltk.TweetTokenizer()\n",
        "\n",
        "def preprocessing_and_tokenize(tweet):\n",
        "  tweet = tweet.lower()\n",
        "  tokens = tweet_tokenizer.tokenize(tweet)\n",
        "  return tokens\n",
        "\n",
        "def convert_w2v(tweet):\n",
        "  word_vectors = []\n",
        "  for w in preprocessing_and_tokenize(tweet):\n",
        "    try:\n",
        "      v = w2v_model.wv[w]\n",
        "      word_vectors.append(v)\n",
        "    except KeyError:\n",
        "      continue\n",
        "  return np.array(word_vectors).mean(axis=0)"
      ],
      "metadata": {
        "id": "bHRv4z9fCfWh"
      },
      "execution_count": 15,
      "outputs": []
    },
    {
      "cell_type": "code",
      "source": [
        "X = []\n",
        "\n",
        "for _,tweet in tqdm(df['tweet'].iteritems()):\n",
        "  vector = convert_w2v(tweet)\n",
        "\n",
        "  # Jika size vector tidak sesuai karena missing data, akan direplace dengan vektor nol\n",
        "  if (vector.shape != (w2v_model.vector_size,)):\n",
        "    vector = np.zeros((w2v_model.vector_size,))\n",
        "\n",
        "  X.append(vector)\n",
        "\n",
        "X = np.array(X)\n",
        "X.shape"
      ],
      "metadata": {
        "colab": {
          "base_uri": "https://localhost:8080/"
        },
        "id": "KuoWcRv2Rtvg",
        "outputId": "e4d6dd8e-e924-4619-be8a-db18b5b206e4"
      },
      "execution_count": 16,
      "outputs": [
        {
          "output_type": "stream",
          "name": "stderr",
          "text": [
            "4401it [00:00, 4523.46it/s]\n"
          ]
        },
        {
          "output_type": "execute_result",
          "data": {
            "text/plain": [
              "(4401, 100)"
            ]
          },
          "metadata": {},
          "execution_count": 16
        }
      ]
    },
    {
      "cell_type": "markdown",
      "source": [
        "### 1c. Klasifikasi\n",
        "\n",
        "Terakhir, kita akan menggunakan fitur Word2Vec untuk melakukan klasifikasi emosi. Untuk proses ini, kita lakukan splitting dataset menjadi train set dan test set.\n",
        "\n",
        "Model yang digunakan adalah Support Vector Machine (SVM). "
      ],
      "metadata": {
        "id": "uNHI53dN7qc3"
      }
    },
    {
      "cell_type": "code",
      "source": [
        "X_train, X_test, y_train, y_test = train_test_split(X, df['label'].to_list(), \n",
        "                                                    test_size = 0.2,\n",
        "                                                    random_state = 2022)\n",
        "\n",
        "print(\"X Train Shape:\", X_train.shape)"
      ],
      "metadata": {
        "id": "YHx0e4nZCfYv",
        "colab": {
          "base_uri": "https://localhost:8080/"
        },
        "outputId": "f084ed59-dce8-4484-f1b0-9c7f6057b0dc"
      },
      "execution_count": 17,
      "outputs": [
        {
          "output_type": "stream",
          "name": "stdout",
          "text": [
            "X Train Shape: (3520, 100)\n"
          ]
        }
      ]
    },
    {
      "cell_type": "code",
      "source": [
        "svm_classifier = SVC(kernel='linear')\n",
        "\n",
        "svm_classifier.fit(X_train, y_train)\n",
        "y_pred = svm_classifier.predict(X_test)\n",
        "\n",
        "print(classification_report(y_test, y_pred))"
      ],
      "metadata": {
        "colab": {
          "base_uri": "https://localhost:8080/"
        },
        "id": "HN3qB2TYVq8e",
        "outputId": "0d0c45d9-38b5-4284-f15f-ed0768c3c49a"
      },
      "execution_count": 18,
      "outputs": [
        {
          "output_type": "stream",
          "name": "stdout",
          "text": [
            "              precision    recall  f1-score   support\n",
            "\n",
            "       anger       0.57      0.67      0.61       217\n",
            "        fear       0.54      0.43      0.48       126\n",
            "       happy       0.53      0.50      0.51       204\n",
            "        love       0.71      0.66      0.69       147\n",
            "     sadness       0.42      0.44      0.43       187\n",
            "\n",
            "    accuracy                           0.55       881\n",
            "   macro avg       0.55      0.54      0.54       881\n",
            "weighted avg       0.55      0.55      0.54       881\n",
            "\n"
          ]
        }
      ]
    },
    {
      "cell_type": "markdown",
      "source": [
        "Jika kita lakukan evaluasi, hasil Macro-Average F1-Score masih lebih rendah dibandingkan dengan performa dari TF-IDF. Hal ini terjadi karena adanya perbedaan domain dataset yang digunakan pada saat melatih model Word2Vec dengan dataset yang kita gunakan.\n",
        "\n",
        "Jika Anda coba baca dokumentasi dari *author* yang merilis model Word2Vec Bahasa Indonesia (cek referensi), maka Anda mengetahui kalau model ini dilatih pada dataset Wikipedia, di mana penulisannya secara umum ditulis dalam bahasa formal. Sementara itu dataset yang kita miliki merupakan dataset Twitter, di mana  penulisannya mayoritas bukan penulisan baku (misal: \"*gw*\", \"*haiiii*\", \"*jln jatibaru*\").\n",
        "\n",
        "****\n",
        "Referensi artikel: https://medium.com/@diekanugraha/membuat-model-word2vec-bahasa-indonesia-dari-wikipedia-menggunakan-gensim-e5745b98714d"
      ],
      "metadata": {
        "id": "nYnJvZs-ggZC"
      }
    },
    {
      "cell_type": "markdown",
      "source": [
        "## Soal [BONUS]\n",
        "\n",
        "1. Lakukan eksperimen dengan model classifier lainnya. Anda bisa merujuk ke dokumentasi `scikit-learn`.\n",
        "2. Gunakan Word2Vec dengan dimensi 300. Apakah terdapat perbedaan skor? Berikan penjelasan."
      ],
      "metadata": {
        "id": "jUpkhq1slk-Q"
      }
    },
    {
      "cell_type": "code",
      "source": [
        "from sklearn.neural_network import MLPClassifier\n",
        "\n",
        "NN = MLPClassifier(solver='lbfgs', alpha=1e-5, hidden_layer_sizes=(5, 2), random_state=1)\n",
        "NN.fit(X_train, y_train)\n",
        "y_pred = NN.predict(X_test)\n",
        "\n",
        "print(classification_report(y_test, y_pred))"
      ],
      "metadata": {
        "colab": {
          "base_uri": "https://localhost:8080/"
        },
        "id": "ZQ93bmOm_7WW",
        "outputId": "678e1e7e-6d5a-4558-e017-e776e40c002d"
      },
      "execution_count": 19,
      "outputs": [
        {
          "output_type": "stream",
          "name": "stdout",
          "text": [
            "              precision    recall  f1-score   support\n",
            "\n",
            "       anger       0.53      0.69      0.60       217\n",
            "        fear       0.00      0.00      0.00       126\n",
            "       happy       0.33      0.28      0.31       204\n",
            "        love       0.60      0.63      0.61       147\n",
            "     sadness       0.28      0.40      0.33       187\n",
            "\n",
            "    accuracy                           0.42       881\n",
            "   macro avg       0.35      0.40      0.37       881\n",
            "weighted avg       0.37      0.42      0.39       881\n",
            "\n"
          ]
        },
        {
          "output_type": "stream",
          "name": "stderr",
          "text": [
            "/usr/local/lib/python3.7/dist-packages/sklearn/neural_network/_multilayer_perceptron.py:549: ConvergenceWarning: lbfgs failed to converge (status=1):\n",
            "STOP: TOTAL NO. of ITERATIONS REACHED LIMIT.\n",
            "\n",
            "Increase the number of iterations (max_iter) or scale the data as shown in:\n",
            "    https://scikit-learn.org/stable/modules/preprocessing.html\n",
            "  self.n_iter_ = _check_optimize_result(\"lbfgs\", opt_res, self.max_iter)\n",
            "/usr/local/lib/python3.7/dist-packages/sklearn/metrics/_classification.py:1318: UndefinedMetricWarning: Precision and F-score are ill-defined and being set to 0.0 in labels with no predicted samples. Use `zero_division` parameter to control this behavior.\n",
            "  _warn_prf(average, modifier, msg_start, len(result))\n",
            "/usr/local/lib/python3.7/dist-packages/sklearn/metrics/_classification.py:1318: UndefinedMetricWarning: Precision and F-score are ill-defined and being set to 0.0 in labels with no predicted samples. Use `zero_division` parameter to control this behavior.\n",
            "  _warn_prf(average, modifier, msg_start, len(result))\n",
            "/usr/local/lib/python3.7/dist-packages/sklearn/metrics/_classification.py:1318: UndefinedMetricWarning: Precision and F-score are ill-defined and being set to 0.0 in labels with no predicted samples. Use `zero_division` parameter to control this behavior.\n",
            "  _warn_prf(average, modifier, msg_start, len(result))\n"
          ]
        }
      ]
    },
    {
      "cell_type": "code",
      "source": [
        "from sklearn.ensemble import RandomForestClassifier\n",
        "\n",
        "RF = RandomForestClassifier(n_estimators=100, max_depth=2, random_state=0)\n",
        "RF.fit(X_train, y_train)\n",
        "y_pred = RF.predict(X_test)\n",
        "\n",
        "print(classification_report(y_test, y_pred))"
      ],
      "metadata": {
        "colab": {
          "base_uri": "https://localhost:8080/"
        },
        "id": "fQA9skLaAk8Z",
        "outputId": "a99d061e-a718-4af4-f48f-cc32504e9e9a"
      },
      "execution_count": 20,
      "outputs": [
        {
          "output_type": "stream",
          "name": "stdout",
          "text": [
            "              precision    recall  f1-score   support\n",
            "\n",
            "       anger       0.37      0.83      0.51       217\n",
            "        fear       0.00      0.00      0.00       126\n",
            "       happy       0.55      0.32      0.40       204\n",
            "        love       0.58      0.41      0.48       147\n",
            "     sadness       0.30      0.28      0.29       187\n",
            "\n",
            "    accuracy                           0.41       881\n",
            "   macro avg       0.36      0.37      0.34       881\n",
            "weighted avg       0.38      0.41      0.36       881\n",
            "\n"
          ]
        },
        {
          "output_type": "stream",
          "name": "stderr",
          "text": [
            "/usr/local/lib/python3.7/dist-packages/sklearn/metrics/_classification.py:1318: UndefinedMetricWarning: Precision and F-score are ill-defined and being set to 0.0 in labels with no predicted samples. Use `zero_division` parameter to control this behavior.\n",
            "  _warn_prf(average, modifier, msg_start, len(result))\n",
            "/usr/local/lib/python3.7/dist-packages/sklearn/metrics/_classification.py:1318: UndefinedMetricWarning: Precision and F-score are ill-defined and being set to 0.0 in labels with no predicted samples. Use `zero_division` parameter to control this behavior.\n",
            "  _warn_prf(average, modifier, msg_start, len(result))\n",
            "/usr/local/lib/python3.7/dist-packages/sklearn/metrics/_classification.py:1318: UndefinedMetricWarning: Precision and F-score are ill-defined and being set to 0.0 in labels with no predicted samples. Use `zero_division` parameter to control this behavior.\n",
            "  _warn_prf(average, modifier, msg_start, len(result))\n"
          ]
        }
      ]
    },
    {
      "cell_type": "code",
      "source": [
        ""
      ],
      "metadata": {
        "id": "T6qV8lUdAuk3"
      },
      "execution_count": null,
      "outputs": []
    },
    {
      "cell_type": "code",
      "source": [
        "w2v_model = gensim.models.Word2Vec.load(\"idwiki_word2vec_300.model\")"
      ],
      "metadata": {
        "id": "LhOOPcCSClQz"
      },
      "execution_count": 23,
      "outputs": []
    },
    {
      "cell_type": "code",
      "source": [
        "X = []\n",
        "\n",
        "for _,tweet in tqdm(df['tweet'].iteritems()):\n",
        "  vector = convert_w2v(tweet)\n",
        "\n",
        "  # Jika size vector tidak sesuai karena missing data, akan direplace dengan vektor nol\n",
        "  if (vector.shape != (w2v_model.vector_size,)):\n",
        "    vector = np.zeros((w2v_model.vector_size,))\n",
        "\n",
        "  X.append(vector)\n",
        "\n",
        "X = np.array(X)\n",
        "X.shape"
      ],
      "metadata": {
        "colab": {
          "base_uri": "https://localhost:8080/"
        },
        "id": "AEXQmuKJEd87",
        "outputId": "50ea2db7-5fef-4223-f175-2bc31284f174"
      },
      "execution_count": 24,
      "outputs": [
        {
          "output_type": "stream",
          "name": "stderr",
          "text": [
            "4401it [00:01, 3936.91it/s]\n"
          ]
        },
        {
          "output_type": "execute_result",
          "data": {
            "text/plain": [
              "(4401, 300)"
            ]
          },
          "metadata": {},
          "execution_count": 24
        }
      ]
    },
    {
      "cell_type": "code",
      "source": [
        "X_train, X_test, y_train, y_test = train_test_split(X, df['label'].to_list(), \n",
        "                                                    test_size = 0.2,\n",
        "                                                    random_state = 2022)\n",
        "\n",
        "print(\"X Train Shape:\", X_train.shape)"
      ],
      "metadata": {
        "colab": {
          "base_uri": "https://localhost:8080/"
        },
        "id": "BVrn09lGEpop",
        "outputId": "71c52cdd-26cb-44d1-fda6-260a3523b66b"
      },
      "execution_count": 25,
      "outputs": [
        {
          "output_type": "stream",
          "name": "stdout",
          "text": [
            "X Train Shape: (3520, 300)\n"
          ]
        }
      ]
    },
    {
      "cell_type": "code",
      "source": [
        "svm_classifier = SVC(kernel='linear')\n",
        "\n",
        "svm_classifier.fit(X_train, y_train)\n",
        "y_pred = svm_classifier.predict(X_test)\n",
        "\n",
        "print(classification_report(y_test, y_pred))"
      ],
      "metadata": {
        "colab": {
          "base_uri": "https://localhost:8080/"
        },
        "id": "Gq1-LPfNEm3u",
        "outputId": "4decb82e-02f5-49c6-9bba-be94794cc7ad"
      },
      "execution_count": 26,
      "outputs": [
        {
          "output_type": "stream",
          "name": "stdout",
          "text": [
            "              precision    recall  f1-score   support\n",
            "\n",
            "       anger       0.61      0.71      0.66       217\n",
            "        fear       0.59      0.52      0.56       126\n",
            "       happy       0.56      0.56      0.56       204\n",
            "        love       0.70      0.68      0.69       147\n",
            "     sadness       0.46      0.43      0.44       187\n",
            "\n",
            "    accuracy                           0.58       881\n",
            "   macro avg       0.59      0.58      0.58       881\n",
            "weighted avg       0.58      0.58      0.58       881\n",
            "\n"
          ]
        }
      ]
    },
    {
      "cell_type": "markdown",
      "source": [
        "Ya, skor akurasi dan rata-rata macro maupun weighted nya lebih tinggi pada dimensi lebih tinggi. \n",
        "\n",
        "Penjelasan lebih lanjutnya sejujurnya saya kurang mengerti, tetapi terdapat jawaban dari https://stackoverflow.com/questions/26569299/word2vec-number-of-dimensions"
      ],
      "metadata": {
        "id": "sVwPHceoFKgZ"
      }
    },
    {
      "cell_type": "code",
      "source": [
        ""
      ],
      "metadata": {
        "id": "QqhDCLktFJaV"
      },
      "execution_count": null,
      "outputs": []
    }
  ]
}