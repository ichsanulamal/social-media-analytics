{
 "cells": [
  {
   "cell_type": "code",
   "execution_count": 173,
   "metadata": {},
   "outputs": [],
   "source": [
    "import numpy as np\n",
    "import networkx as nx"
   ]
  },
  {
   "cell_type": "code",
   "execution_count": 174,
   "metadata": {},
   "outputs": [],
   "source": [
    "G = nx.Graph()"
   ]
  },
  {
   "cell_type": "code",
   "execution_count": 175,
   "metadata": {},
   "outputs": [],
   "source": [
    "G.add_edges_from([\n",
    "    (\"A\", \"B\"),\n",
    "    (\"A\", \"C\"),\n",
    "    (\"A\", \"H\"),\n",
    "    (\"B\", \"A\"),\n",
    "    (\"B\", \"C\"),\n",
    "    (\"C\", \"A\"),\n",
    "    (\"C\", \"B\"),\n",
    "    (\"C\", \"E\"),\n",
    "    (\"D\", \"E\"),\n",
    "    (\"D\", \"F\"),\n",
    "    (\"E\", \"C\"),\n",
    "    (\"E\", \"D\"),\n",
    "    (\"E\", \"F\"),\n",
    "    (\"E\", \"G\"),\n",
    "    (\"F\", \"D\"),\n",
    "    (\"F\", \"E\"),\n",
    "    (\"G\", \"E\"),\n",
    "    (\"G\", \"H\"),\n",
    "    (\"G\", \"I\"),\n",
    "    (\"H\", \"A\"),\n",
    "    (\"H\", \"G\"),\n",
    "    (\"H\", \"I\"),\n",
    "    (\"I\", \"G\"),\n",
    "    (\"I\", \"H\"),\n",
    "    ])"
   ]
  },
  {
   "cell_type": "code",
   "execution_count": 176,
   "metadata": {},
   "outputs": [
    {
     "data": {
      "text/plain": [
       "{'A': 0.5333333333333333,\n",
       " 'B': 0.4444444444444444,\n",
       " 'C': 0.5714285714285714,\n",
       " 'H': 0.5333333333333333,\n",
       " 'E': 0.6666666666666666,\n",
       " 'D': 0.4444444444444444,\n",
       " 'F': 0.4444444444444444,\n",
       " 'G': 0.5714285714285714,\n",
       " 'I': 0.4444444444444444}"
      ]
     },
     "execution_count": 176,
     "metadata": {},
     "output_type": "execute_result"
    }
   ],
   "source": [
    "nx.closeness_centrality(G)"
   ]
  },
  {
   "cell_type": "code",
   "execution_count": 177,
   "metadata": {},
   "outputs": [
    {
     "data": {
      "text/plain": [
       "{'A': 0.14285714285714285,\n",
       " 'B': 0.0,\n",
       " 'C': 0.23214285714285712,\n",
       " 'H': 0.14285714285714285,\n",
       " 'E': 0.5,\n",
       " 'D': 0.0,\n",
       " 'F': 0.0,\n",
       " 'G': 0.23214285714285712,\n",
       " 'I': 0.0}"
      ]
     },
     "execution_count": 177,
     "metadata": {},
     "output_type": "execute_result"
    }
   ],
   "source": [
    "\n",
    "nx.betweenness_centrality(G)"
   ]
  },
  {
   "cell_type": "code",
   "execution_count": 178,
   "metadata": {},
   "outputs": [
    {
     "data": {
      "text/plain": [
       "0.3333333333333333"
      ]
     },
     "execution_count": 178,
     "metadata": {},
     "output_type": "execute_result"
    }
   ],
   "source": [
    "nx.density(G)"
   ]
  },
  {
   "cell_type": "code",
   "execution_count": 179,
   "metadata": {},
   "outputs": [
    {
     "data": {
      "text/plain": [
       "0.611111111111111"
      ]
     },
     "execution_count": 179,
     "metadata": {},
     "output_type": "execute_result"
    }
   ],
   "source": [
    "nx.average_clustering(G)\n"
   ]
  },
  {
   "cell_type": "code",
   "execution_count": 180,
   "metadata": {},
   "outputs": [],
   "source": [
    "doc = nx.clustering(G)"
   ]
  },
  {
   "cell_type": "code",
   "execution_count": 181,
   "metadata": {},
   "outputs": [],
   "source": [
    "# sum = 0\n",
    "# for s in \"ABCDEFGHIJ\":\n",
    "#     sum += doc[s]\n",
    "#     print(doc[s])\n",
    "\n",
    "# print(sum/len(\"ABCDEFGHIJ\"))"
   ]
  },
  {
   "cell_type": "code",
   "execution_count": 182,
   "metadata": {},
   "outputs": [],
   "source": [
    "def findPathsNoLC(G,u,n):\n",
    "    if n==0:\n",
    "        return [[u]]\n",
    "    paths = []\n",
    "    for neighbor in G.neighbors(u):\n",
    "        for path in findPathsNoLC(G,neighbor,n-1):\n",
    "            if u not in path:\n",
    "                paths.append([u]+path)\n",
    "    \n",
    "    print(paths)\n",
    "    return paths"
   ]
  },
  {
   "cell_type": "code",
   "execution_count": 183,
   "metadata": {},
   "outputs": [],
   "source": [
    "# allpaths = []\n",
    "# for node in G:\n",
    "#     allpaths.extend(findPathsNoLC(G,node,2))"
   ]
  },
  {
   "cell_type": "code",
   "execution_count": 184,
   "metadata": {},
   "outputs": [
    {
     "data": {
      "text/plain": [
       "0.4090909090909091"
      ]
     },
     "execution_count": 184,
     "metadata": {},
     "output_type": "execute_result"
    }
   ],
   "source": [
    "nx.transitivity(G)"
   ]
  },
  {
   "cell_type": "markdown",
   "metadata": {},
   "source": [
    "# 2"
   ]
  },
  {
   "cell_type": "markdown",
   "metadata": {},
   "source": [
    "# Girvan Newman"
   ]
  },
  {
   "cell_type": "code",
   "execution_count": 185,
   "metadata": {},
   "outputs": [],
   "source": [
    "from networkx.algorithms.community.centrality import girvan_newman"
   ]
  },
  {
   "cell_type": "code",
   "execution_count": 186,
   "metadata": {},
   "outputs": [
    {
     "data": {
      "text/plain": [
       "12"
      ]
     },
     "execution_count": 186,
     "metadata": {},
     "output_type": "execute_result"
    }
   ],
   "source": [
    "len(G.edges)"
   ]
  },
  {
   "cell_type": "code",
   "execution_count": 187,
   "metadata": {},
   "outputs": [
    {
     "data": {
      "text/plain": [
       "(['A', 'B', 'C'], ['D', 'E', 'F', 'G', 'H', 'I'])"
      ]
     },
     "execution_count": 187,
     "metadata": {},
     "output_type": "execute_result"
    }
   ],
   "source": [
    "comp = girvan_newman(G)\n",
    "tuple(sorted(c) for c in next(comp))"
   ]
  },
  {
   "cell_type": "code",
   "execution_count": 188,
   "metadata": {},
   "outputs": [
    {
     "name": "stdout",
     "output_type": "stream",
     "text": [
      "(['A', 'B', 'C'], ['D', 'E', 'F', 'G', 'H', 'I'])\n",
      "(['A', 'B', 'C'], ['G', 'H', 'I'], ['D', 'E', 'F'])\n"
     ]
    }
   ],
   "source": [
    "import itertools\n",
    "k = 3\n",
    "comp = girvan_newman(G)\n",
    "limited = itertools.takewhile(lambda c: len(c) <= k, comp)\n",
    "for communities in limited:\n",
    "    print(tuple(sorted(c) for c in communities))"
   ]
  },
  {
   "cell_type": "markdown",
   "metadata": {},
   "source": [
    "## Manual"
   ]
  },
  {
   "cell_type": "code",
   "execution_count": 189,
   "metadata": {},
   "outputs": [
    {
     "data": {
      "text/plain": [
       "{('A', 'B'): 3.5,\n",
       " ('A', 'C'): 5.5,\n",
       " ('A', 'H'): 7.0,\n",
       " ('B', 'C'): 4.5,\n",
       " ('C', 'E'): 11.0,\n",
       " ('H', 'G'): 5.5,\n",
       " ('H', 'I'): 3.5,\n",
       " ('E', 'D'): 7.0,\n",
       " ('E', 'F'): 7.0,\n",
       " ('E', 'G'): 11.0,\n",
       " ('D', 'F'): 1.0,\n",
       " ('G', 'I'): 4.5}"
      ]
     },
     "execution_count": 189,
     "metadata": {},
     "output_type": "execute_result"
    }
   ],
   "source": [
    "nx.edge_betweenness_centrality(G, normalized=False)\n"
   ]
  },
  {
   "cell_type": "code",
   "execution_count": 190,
   "metadata": {},
   "outputs": [
    {
     "name": "stdout",
     "output_type": "stream",
     "text": [
      "start >>>>>>>>>>>>>>>>>>>\n",
      "{('A', 'B'): 3.5, ('A', 'C'): 5.5, ('A', 'H'): 7.0, ('B', 'C'): 4.5, ('C', 'E'): 11.0, ('H', 'G'): 5.5, ('H', 'I'): 3.5, ('E', 'D'): 7.0, ('E', 'F'): 7.0, ('E', 'G'): 11.0, ('D', 'F'): 1.0, ('G', 'I'): 4.5}\n",
      "node to remove [[('C', 'E'), 11.0], [('E', 'G'), 11.0]]\n",
      "{'I', 'C', 'A', 'H', 'B', 'G'}\n",
      "{'E', 'F', 'D'}\n",
      "start >>>>>>>>>>>>>>>>>>>\n",
      "{('A', 'B'): 4.0, ('A', 'C'): 4.0, ('A', 'H'): 9.0, ('B', 'C'): 1.0, ('H', 'G'): 4.0, ('H', 'I'): 4.0, ('E', 'D'): 1.0, ('E', 'F'): 1.0, ('D', 'F'): 1.0, ('G', 'I'): 1.0}\n",
      "node to remove [[('A', 'H'), 9.0]]\n",
      "{'C', 'A', 'B'}\n",
      "{'G', 'I', 'H'}\n",
      "{'E', 'F', 'D'}\n",
      "start >>>>>>>>>>>>>>>>>>>\n",
      "{('A', 'B'): 1.0, ('A', 'C'): 1.0, ('B', 'C'): 1.0, ('H', 'G'): 1.0, ('H', 'I'): 1.0, ('E', 'D'): 1.0, ('E', 'F'): 1.0, ('D', 'F'): 1.0, ('G', 'I'): 1.0}\n",
      "node to remove [[('A', 'B'), 1.0], [('A', 'C'), 1.0], [('B', 'C'), 1.0], [('H', 'G'), 1.0], [('H', 'I'), 1.0], [('E', 'D'), 1.0], [('E', 'F'), 1.0], [('D', 'F'), 1.0], [('G', 'I'), 1.0]]\n",
      "{'A'}\n",
      "{'B'}\n",
      "{'C'}\n",
      "{'H'}\n",
      "{'E'}\n",
      "{'D'}\n",
      "{'F'}\n",
      "{'G'}\n",
      "{'I'}\n"
     ]
    }
   ],
   "source": [
    "while G.number_of_edges() > 0:\n",
    "    print(\"start >>>>>>>>>>>>>>>>>>>\")\n",
    "    max = [[1,0]]\n",
    "    print(nx.edge_betweenness_centrality(G, normalized=False))\n",
    "    for k, v in nx.edge_betweenness_centrality(G, normalized=False).items():\n",
    "        if v > max[0][1]:\n",
    "            max = [[k, v]]\n",
    "        elif v == max[0][1]:\n",
    "            max.append([k, v])\n",
    "\n",
    "\n",
    "    print(f\"node to remove {max}\")\n",
    "    for e in max:\n",
    "        G.remove_edge(e[0][0], e[0][1])\n",
    "\n",
    "    for i in nx.connected_components(G):\n",
    "        print(i)\n",
    "\n"
   ]
  },
  {
   "cell_type": "code",
   "execution_count": 1,
   "metadata": {},
   "outputs": [],
   "source": [
    "x = 1\n",
    "y = 2"
   ]
  },
  {
   "cell_type": "code",
   "execution_count": 6,
   "metadata": {},
   "outputs": [],
   "source": [
    "temp = x\n",
    "x = y\n",
    "y = temp"
   ]
  },
  {
   "cell_type": "code",
   "execution_count": 3,
   "metadata": {},
   "outputs": [
    {
     "name": "stdout",
     "output_type": "stream",
     "text": [
      "2 1\n"
     ]
    }
   ],
   "source": [
    "# print(x, y)"
   ]
  },
  {
   "cell_type": "code",
   "execution_count": 10,
   "metadata": {},
   "outputs": [
    {
     "name": "stdout",
     "output_type": "stream",
     "text": [
      "[5, 1, 2, 7]\n"
     ]
    }
   ],
   "source": [
    "arr = [7, 2, 1, 5]\n",
    "\n",
    "for i in range(len(arr)//2):\n",
    "    temp = arr[i]\n",
    "    arr[i] = arr[len(arr)-i-1]\n",
    "    arr[len(arr)-i-1] = temp\n",
    "    \n",
    "print(arr)\n",
    "\n"
   ]
  }
 ],
 "metadata": {
  "interpreter": {
   "hash": "ad2bdc8ecc057115af97d19610ffacc2b4e99fae6737bb82f5d7fb13d2f2c186"
  },
  "kernelspec": {
   "display_name": "Python 3.8.8 ('base')",
   "language": "python",
   "name": "python3"
  },
  "language_info": {
   "codemirror_mode": {
    "name": "ipython",
    "version": 3
   },
   "file_extension": ".py",
   "mimetype": "text/x-python",
   "name": "python",
   "nbconvert_exporter": "python",
   "pygments_lexer": "ipython3",
   "version": "3.8.8"
  },
  "orig_nbformat": 4
 },
 "nbformat": 4,
 "nbformat_minor": 2
}
